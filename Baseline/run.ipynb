{
  "cells": [
    {
      "cell_type": "code",
      "execution_count": 1,
      "metadata": {},
      "outputs": [],
      "source": [
        "import testing as t\n",
        "from matplotlib import pyplot as plt\n",
        "import joy_data_loader as loader\n",
        "import numpy as np"
      ]
    },
    {
      "attachments": {},
      "cell_type": "markdown",
      "metadata": {
        "colab_type": "text",
        "id": "9PtLOtOa1FO2"
      },
      "source": [
        "## Fine tuning poem model on poems"
      ]
    },
    {
      "cell_type": "code",
      "execution_count": 1,
      "metadata": {
        "colab": {
          "base_uri": "https://localhost:8080/",
          "height": 1000
        },
        "colab_type": "code",
        "id": "JaTfjcvNtfEQ",
        "outputId": "9162bca9-2b0e-4fb0-ad47-c79e1f90b7fd",
        "vscode": {
          "languageId": "shellscript"
        }
      },
      "outputs": [
        {
          "name": "stdout",
          "output_type": "stream",
          "text": [
            "^C\n"
          ]
        }
      ],
      "source": [
        "!python fine_tune.py \\\n",
        "    --dataset_name Ozziey/poems_dataset\\\n",
        "    --per_device_train_batch_size 4 \\\n",
        "    --per_device_eval_batch_size 4 \\\n",
        "    --do_train \\\n",
        "    --do_eval \\\n",
        "    --output_dir ./tmp/poem_baseline \\\n",
        "    --overwrite_output_dir"
      ]
    },
    {
      "attachments": {},
      "cell_type": "markdown",
      "metadata": {},
      "source": [
        "## Fine tuning on Joy poems\n",
        "https://huggingface.co/docs/transformers/v4.27.1/en/main_classes/trainer#transformers.TrainingArguments"
      ]
    },
    {
      "cell_type": "code",
      "execution_count": null,
      "metadata": {
        "vscode": {
          "languageId": "shellscript"
        }
      },
      "outputs": [],
      "source": [
        "!python fine_tune.py \\\n",
        "    --dataset_name Ozziey/poems_dataset\\\n",
        "    --per_device_train_batch_size 4 \\\n",
        "    --per_device_eval_batch_size 4 \\\n",
        "    --do_train \\\n",
        "    --do_eval \\\n",
        "    --num_train_epochs 50 \\\n",
        "    --seed 19019509 \\\n",
        "    --output_dir ./tmp/joy_poem_baseline \\\n",
        "    --overwrite_output_dir \\\n",
        "    --joy"
      ]
    },
    {
      "attachments": {},
      "cell_type": "markdown",
      "metadata": {},
      "source": [
        "## Finetune on PERC data\n",
        "1. get data from: https://data.mendeley.com/datasets/n9vbc8g9cx/1\n",
        "2. convert by running joy_data_loader.py\n",
        "3. run following script"
      ]
    },
    {
      "cell_type": "code",
      "execution_count": null,
      "metadata": {
        "vscode": {
          "languageId": "shellscript"
        }
      },
      "outputs": [],
      "source": [
        "!python fine_tune.py \\\n",
        "    --train_file ./Data/PERC.csv\\\n",
        "    --per_device_train_batch_size 4 \\\n",
        "    --per_device_eval_batch_size 4 \\\n",
        "    --do_train \\\n",
        "    --do_eval \\\n",
        "    --num_train_epochs 50 \\\n",
        "    --seed 19019509 \\\n",
        "    --output_dir ./tmp/perc_poem_baseline \\\n",
        "    --overwrite_output_dir \\\n",
        "    --joy"
      ]
    },
    {
      "attachments": {},
      "cell_type": "markdown",
      "metadata": {},
      "source": [
        "## Generation"
      ]
    },
    {
      "cell_type": "code",
      "execution_count": 4,
      "metadata": {},
      "outputs": [],
      "source": [
        "prompts = loader.load_evaluation_prompts(seed=1234567)\n",
        "joy = prompts[\"joy\"]\n",
        "# this is for novelty evaluation\n",
        "original = loader.load_evaluation_prompts(seed=1234567, length=-1)\n",
        "joy_original = original[\"joy\"]"
      ]
    },
    {
      "cell_type": "code",
      "execution_count": 68,
      "metadata": {
        "colab": {
          "base_uri": "https://localhost:8080/",
          "height": 1000
        },
        "colab_type": "code",
        "id": "n_WakQt07-sL",
        "outputId": "dcaace76-d490-4517-867b-3f42dd6b8004",
        "vscode": {
          "languageId": "shellscript"
        }
      },
      "outputs": [
        {
          "name": "stderr",
          "output_type": "stream",
          "text": [
            "03/24/2023 13:49:33 - WARNING - __main__ - device: cuda, n_gpu: 1, 16-bits training: False\n",
            "03/24/2023 13:49:35 - INFO - __main__ - Namespace(device=device(type='cuda'), fp16=False, k=50, length=100, model_name_or_path='./tmp/perc_poem_baseline', model_type='gpt2', n_gpu=1, no_cuda=False, num_return_sequences=250, p=0.9, padding_text='', prefix='', prompt='To My Fairy Fancies NAY,', repetition_penalty=1.0, seed=20, stop_token=None, temperature=1.0, xlm_language='')\n",
            "The attention mask and the pad token id were not set. As a consequence, you may observe unexpected behavior. Please pass your input's `attention_mask` to obtain reliable results.\n",
            "Setting `pad_token_id` to `eos_token_id`:50256 for open-end generation.\n"
          ]
        }
      ],
      "source": [
        "K=50\n",
        "\n",
        "# change model path to the saved directory\n",
        "!python text_generation.py \\\n",
        "    --model_type gpt2 \\\n",
        "    --model_name_or_path ./tmp/perc_poem_baseline \\\n",
        "    --length 100 \\\n",
        "    --prompt \"$joy\" \\\n",
        "    --seed 20 \\\n",
        "    --k $K \\\n",
        "    --num_return_sequences 250 >> ./Data/Generations/perc_generations.txt"
      ]
    },
    {
      "cell_type": "code",
      "execution_count": null,
      "metadata": {},
      "outputs": [],
      "source": [
        "rate, rates = t.fluency(verbose=1)"
      ]
    },
    {
      "cell_type": "code",
      "execution_count": 70,
      "metadata": {},
      "outputs": [],
      "source": [
        "np.savetxt('./pre_computed/baseline_fluency_scores.txt', rates, delimiter=',') "
      ]
    },
    {
      "cell_type": "code",
      "execution_count": 3,
      "metadata": {},
      "outputs": [
        {
          "data": {
            "text/plain": [
              "(4999,)"
            ]
          },
          "execution_count": 3,
          "metadata": {},
          "output_type": "execute_result"
        }
      ],
      "source": [
        "loaded = np.loadtxt('./pre_computed/baseline_fluency_scores.txt', delimiter=',') \n",
        "loaded.shape"
      ]
    },
    {
      "cell_type": "code",
      "execution_count": 5,
      "metadata": {},
      "outputs": [
        {
          "name": "stdout",
          "output_type": "stream",
          "text": [
            "0.9824314598099493 0.021853655985604913\n"
          ]
        },
        {
          "data": {
            "image/png": "[encoded data removed]",
            "text/plain": [
              "<Figure size 640x480 with 1 Axes>"
            ]
          },
          "metadata": {},
          "output_type": "display_data"
        }
      ],
      "source": [
        "\n",
        "plt.close()\n",
        "plt.figure()\n",
        "plt.hist(loaded, bins=50)\n",
        "plt.title(\"fluency distribution for the fine tuned gpt2\")\n",
        "plt.xlabel(\"fluency score\")\n",
        "plt.show()\n"
      ]
    },
    {
      "cell_type": "code",
      "execution_count": 13,
      "metadata": {},
      "outputs": [],
      "source": [
        "diversity = t.diversity(size=100)\n",
        "np.savetxt('./pre_computed/baseline_diversity_scores.txt', diversity, delimiter=',') "
      ]
    },
    {
      "cell_type": "code",
      "execution_count": 6,
      "metadata": {},
      "outputs": [
        {
          "data": {
            "text/plain": [
              "(4950,)"
            ]
          },
          "execution_count": 6,
          "metadata": {},
          "output_type": "execute_result"
        }
      ],
      "source": [
        "loaded_diversity = np.loadtxt('./pre_computed/baseline_diversity_scores.txt', delimiter=',') \n",
        "loaded_diversity.shape"
      ]
    },
    {
      "cell_type": "code",
      "execution_count": 7,
      "metadata": {},
      "outputs": [
        {
          "name": "stdout",
          "output_type": "stream",
          "text": [
            "0.3040137365476388 0.06432561170425977\n"
          ]
        },
        {
          "data": {
            "image/png": "[encoded data removed]",
            "text/plain": [
              "<Figure size 640x480 with 1 Axes>"
            ]
          },
          "metadata": {},
          "output_type": "display_data"
        }
      ],
      "source": [
        "print(np.mean(loaded_diversity), np.std(loaded_diversity))\n",
        "plt.figure()\n",
        "plt.hist(loaded_diversity, bins=50)\n",
        "plt.title(\"diversity distribution for the fine tuned gpt2\")\n",
        "plt.xlabel(\"diversity score\")\n",
        "plt.show()"
      ]
    },
    {
      "cell_type": "code",
      "execution_count": 8,
      "metadata": {},
      "outputs": [],
      "source": [
        "novelty = []\n",
        "for i in range(40):\n",
        "    novelty.append(t.novelty(training_phrase=joy_original, size=100, start=i*100))\n",
        "\n",
        "np.savetxt('./pre_computed/baseline_novelty_scores.txt', novelty, delimiter=',') "
      ]
    },
    {
      "cell_type": "code",
      "execution_count": 9,
      "metadata": {},
      "outputs": [
        {
          "data": {
            "text/plain": [
              "(4040,)"
            ]
          },
          "execution_count": 9,
          "metadata": {},
          "output_type": "execute_result"
        }
      ],
      "source": [
        "loaded_novelty = np.loadtxt('./pre_computed/baseline_novelty_scores.txt', delimiter=',') \n",
        "loaded_novelty = loaded_novelty.flatten()\n",
        "loaded_novelty.shape"
      ]
    },
    {
      "cell_type": "code",
      "execution_count": 10,
      "metadata": {},
      "outputs": [
        {
          "name": "stdout",
          "output_type": "stream",
          "text": [
            "0.31110519542598564 0.06046361136202341\n"
          ]
        },
        {
          "data": {
            "image/png": "[encoded data removed]",
            "text/plain": [
              "<Figure size 640x480 with 1 Axes>"
            ]
          },
          "metadata": {},
          "output_type": "display_data"
        }
      ],
      "source": [
        "print(np.mean(loaded_novelty), np.std(loaded_novelty))\n",
        "plt.figure()\n",
        "plt.hist(loaded_novelty, bins=50)\n",
        "plt.title(\"novelty distribution for the fine tuned gpt2\")\n",
        "plt.xlabel(\"novelty score\")\n",
        "plt.show()"
      ]
    }
  ],
  "metadata": {
    "accelerator": "GPU",
    "colab": {
      "authorship_tag": "ABX9TyOL4rf+yBkuBNzWQG3oZD5Q",
      "collapsed_sections": [],
      "include_colab_link": true,
      "mount_file_id": "1SsYKniB48_XJTuSX26nRFWYa9Y51BMay",
      "name": "text-generation.ipynb",
      "provenance": []
    },
    "kernelspec": {
      "display_name": "MRI",
      "language": "python",
      "name": "python3"
    },
    "language_info": {
      "codemirror_mode": {
        "name": "ipython",
        "version": 3
      },
      "file_extension": ".py",
      "mimetype": "text/x-python",
      "name": "python",
      "nbconvert_exporter": "python",
      "pygments_lexer": "ipython3",
      "version": "3.7.15"
    },
    "vscode": {
      "interpreter": {
        "hash": "b22e399f9aa032b6c5b44aa6084ea481c5de19f4b4fde338c00160119a9fb9bb"
      }
    }
  },
  "nbformat": 4,
  "nbformat_minor": 0
}
