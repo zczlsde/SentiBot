{
  "cells": [
    {
      "cell_type": "code",
      "execution_count": 1,
      "metadata": {},
      "outputs": [],
      "source": [
        "import testing as t\n",
        "from matplotlib import pyplot as plt"
      ]
    },
    {
      "attachments": {},
      "cell_type": "markdown",
      "metadata": {
        "colab_type": "text",
        "id": "9PtLOtOa1FO2"
      },
      "source": [
        "## Fine tuning poem model on poems"
      ]
    },
    {
      "cell_type": "code",
      "execution_count": null,
      "metadata": {
        "colab": {
          "base_uri": "https://localhost:8080/",
          "height": 1000
        },
        "colab_type": "code",
        "id": "JaTfjcvNtfEQ",
        "outputId": "9162bca9-2b0e-4fb0-ad47-c79e1f90b7fd",
        "vscode": {
          "languageId": "shellscript"
        }
      },
      "outputs": [],
      "source": [
        "!python fine_tune.py \\\n",
        "    --dataset_name Ozziey/poems_dataset\\\n",
        "    --per_device_train_batch_size 4 \\\n",
        "    --per_device_eval_batch_size 4 \\\n",
        "    --do_train \\\n",
        "    --do_eval \\\n",
        "    --output_dir ./tmp/poem_baseline \\\n",
        "    --overwrite_output_dir"
      ]
    },
    {
      "attachments": {},
      "cell_type": "markdown",
      "metadata": {},
      "source": [
        "## Fine tuning on Joy poems\n",
        "https://huggingface.co/docs/transformers/v4.27.1/en/main_classes/trainer#transformers.TrainingArguments"
      ]
    },
    {
      "cell_type": "code",
      "execution_count": null,
      "metadata": {
        "vscode": {
          "languageId": "shellscript"
        }
      },
      "outputs": [],
      "source": [
        "!python fine_tune.py \\\n",
        "    --dataset_name Ozziey/poems_dataset\\\n",
        "    --per_device_train_batch_size 4 \\\n",
        "    --per_device_eval_batch_size 4 \\\n",
        "    --do_train \\\n",
        "    --do_eval \\\n",
        "    --num_train_epochs 50 \\\n",
        "    --seed 19019509 \\\n",
        "    --output_dir ./tmp/joy_poem_baseline \\\n",
        "    --overwrite_output_dir \\\n",
        "    --joy"
      ]
    },
    {
      "attachments": {},
      "cell_type": "markdown",
      "metadata": {},
      "source": [
        "## Finetune on PERC data\n",
        "1. get data from: https://data.mendeley.com/datasets/n9vbc8g9cx/1\n",
        "2. convert by running joy_data_loader.py\n",
        "3. run following script"
      ]
    },
    {
      "cell_type": "code",
      "execution_count": null,
      "metadata": {
        "vscode": {
          "languageId": "shellscript"
        }
      },
      "outputs": [],
      "source": [
        "!python fine_tune.py \\\n",
        "    --train_file ./Data/PERC.csv\\\n",
        "    --per_device_train_batch_size 4 \\\n",
        "    --per_device_eval_batch_size 4 \\\n",
        "    --do_train \\\n",
        "    --do_eval \\\n",
        "    --num_train_epochs 50 \\\n",
        "    --seed 19019509 \\\n",
        "    --output_dir ./tmp/perc_poem_baseline \\\n",
        "    --overwrite_output_dir \\\n",
        "    --joy"
      ]
    },
    {
      "attachments": {},
      "cell_type": "markdown",
      "metadata": {},
      "source": [
        "## Generation"
      ]
    },
    {
      "cell_type": "code",
      "execution_count": null,
      "metadata": {
        "colab": {
          "base_uri": "https://localhost:8080/",
          "height": 1000
        },
        "colab_type": "code",
        "id": "n_WakQt07-sL",
        "outputId": "dcaace76-d490-4517-867b-3f42dd6b8004",
        "vscode": {
          "languageId": "shellscript"
        }
      },
      "outputs": [],
      "source": [
        "K=50\n",
        "# change model path to the saved directory\n",
        "!python text_generation.py \\\n",
        "    --model_type gpt2 \\\n",
        "    --model_name_or_path ./tmp/perc_poem_baseline \\\n",
        "    --length 50 \\\n",
        "    --prompt \"Spring\" \\\n",
        "    --seed 200 \\\n",
        "    --k $K \\\n",
        "    --num_return_sequences 500"
      ]
    },
    {
      "cell_type": "code",
      "execution_count": 3,
      "metadata": {},
      "outputs": [
        {
          "name": "stdout",
          "output_type": "stream",
          "text": [
            "500\n"
          ]
        }
      ],
      "source": [
        "rate, rates = t.fluency(verbose=0)"
      ]
    },
    {
      "cell_type": "code",
      "execution_count": 4,
      "metadata": {},
      "outputs": [
        {
          "name": "stdout",
          "output_type": "stream",
          "text": [
            "0.9782482934166378\n"
          ]
        },
        {
          "data": {
            "image/png": "[encoded data removed]",
            "text/plain": [
              "<Figure size 640x480 with 1 Axes>"
            ]
          },
          "metadata": {},
          "output_type": "display_data"
        }
      ],
      "source": [
        "print(rate)\n",
        "plt.close()\n",
        "plt.figure()\n",
        "plt.hist(rates, bins=50)\n",
        "plt.show()\n"
      ]
    }
  ],
  "metadata": {
    "accelerator": "GPU",
    "colab": {
      "authorship_tag": "ABX9TyOL4rf+yBkuBNzWQG3oZD5Q",
      "collapsed_sections": [],
      "include_colab_link": true,
      "mount_file_id": "1SsYKniB48_XJTuSX26nRFWYa9Y51BMay",
      "name": "text-generation.ipynb",
      "provenance": []
    },
    "kernelspec": {
      "display_name": "Python 3",
      "name": "python3"
    },
    "language_info": {
      "codemirror_mode": {
        "name": "ipython",
        "version": 3
      },
      "file_extension": ".py",
      "mimetype": "text/x-python",
      "name": "python",
      "nbconvert_exporter": "python",
      "pygments_lexer": "ipython3",
      "version": "3.7.15"
    }
  },
  "nbformat": 4,
  "nbformat_minor": 0
}
